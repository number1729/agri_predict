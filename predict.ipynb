{
 "cells": [
  {
   "cell_type": "code",
   "execution_count": 131,
   "metadata": {},
   "outputs": [],
   "source": [
    "import pandas as pd\n",
    "import numpy as np\n",
    "import plotly.express as px\n",
    "import chardet\n",
    "import plotly.graph_objects as go\n",
    "import plotly.io as pio\n",
    "from plotly.subplots import make_subplots\n",
    "from datetime import datetime\n",
    "import xgboost as xgb\n",
    "from sklearn.model_selection import RandomizedSearchCV\n",
    "import sklearn.metrics\n",
    "from sklearn.metrics import mean_squared_error\n",
    "from sklearn.model_selection import train_test_split"
   ]
  },
  {
   "cell_type": "markdown",
   "metadata": {},
   "source": [
    "#### 説明変数、温度だけで出荷個数を予測する(2018-2022)\n"
   ]
  },
  {
   "cell_type": "code",
   "execution_count": 132,
   "metadata": {},
   "outputs": [],
   "source": [
    "df_list = [pd.read_csv(f\"data/{year}_df\") for year in range(2018, 2022)]"
   ]
  },
  {
   "cell_type": "code",
   "execution_count": 133,
   "metadata": {},
   "outputs": [
    {
     "data": {
      "text/html": [
       "<div>\n",
       "<style scoped>\n",
       "    .dataframe tbody tr th:only-of-type {\n",
       "        vertical-align: middle;\n",
       "    }\n",
       "\n",
       "    .dataframe tbody tr th {\n",
       "        vertical-align: top;\n",
       "    }\n",
       "\n",
       "    .dataframe thead th {\n",
       "        text-align: right;\n",
       "    }\n",
       "</style>\n",
       "<table border=\"1\" class=\"dataframe\">\n",
       "  <thead>\n",
       "    <tr style=\"text-align: right;\">\n",
       "      <th></th>\n",
       "      <th>平均気温(℃)</th>\n",
       "      <th>個数</th>\n",
       "      <th>year</th>\n",
       "      <th>month</th>\n",
       "    </tr>\n",
       "  </thead>\n",
       "  <tbody>\n",
       "    <tr>\n",
       "      <th>0</th>\n",
       "      <td>19.066667</td>\n",
       "      <td>2.0</td>\n",
       "      <td>2018</td>\n",
       "      <td>6</td>\n",
       "    </tr>\n",
       "    <tr>\n",
       "      <th>1</th>\n",
       "      <td>19.300000</td>\n",
       "      <td>13.0</td>\n",
       "      <td>2018</td>\n",
       "      <td>6</td>\n",
       "    </tr>\n",
       "    <tr>\n",
       "      <th>2</th>\n",
       "      <td>22.200000</td>\n",
       "      <td>63.0</td>\n",
       "      <td>2018</td>\n",
       "      <td>6</td>\n",
       "    </tr>\n",
       "    <tr>\n",
       "      <th>3</th>\n",
       "      <td>23.866667</td>\n",
       "      <td>74.0</td>\n",
       "      <td>2018</td>\n",
       "      <td>6</td>\n",
       "    </tr>\n",
       "    <tr>\n",
       "      <th>4</th>\n",
       "      <td>23.633333</td>\n",
       "      <td>173.0</td>\n",
       "      <td>2018</td>\n",
       "      <td>7</td>\n",
       "    </tr>\n",
       "    <tr>\n",
       "      <th>...</th>\n",
       "      <td>...</td>\n",
       "      <td>...</td>\n",
       "      <td>...</td>\n",
       "      <td>...</td>\n",
       "    </tr>\n",
       "    <tr>\n",
       "      <th>144</th>\n",
       "      <td>19.933333</td>\n",
       "      <td>185.0</td>\n",
       "      <td>2021</td>\n",
       "      <td>9</td>\n",
       "    </tr>\n",
       "    <tr>\n",
       "      <th>145</th>\n",
       "      <td>15.933333</td>\n",
       "      <td>102.0</td>\n",
       "      <td>2021</td>\n",
       "      <td>9</td>\n",
       "    </tr>\n",
       "    <tr>\n",
       "      <th>146</th>\n",
       "      <td>18.300000</td>\n",
       "      <td>62.0</td>\n",
       "      <td>2021</td>\n",
       "      <td>9</td>\n",
       "    </tr>\n",
       "    <tr>\n",
       "      <th>147</th>\n",
       "      <td>18.133333</td>\n",
       "      <td>39.0</td>\n",
       "      <td>2021</td>\n",
       "      <td>10</td>\n",
       "    </tr>\n",
       "    <tr>\n",
       "      <th>148</th>\n",
       "      <td>18.566667</td>\n",
       "      <td>22.0</td>\n",
       "      <td>2021</td>\n",
       "      <td>10</td>\n",
       "    </tr>\n",
       "  </tbody>\n",
       "</table>\n",
       "<p>149 rows × 4 columns</p>\n",
       "</div>"
      ],
      "text/plain": [
       "       平均気温(℃)     個数  year  month\n",
       "0    19.066667    2.0  2018      6\n",
       "1    19.300000   13.0  2018      6\n",
       "2    22.200000   63.0  2018      6\n",
       "3    23.866667   74.0  2018      6\n",
       "4    23.633333  173.0  2018      7\n",
       "..         ...    ...   ...    ...\n",
       "144  19.933333  185.0  2021      9\n",
       "145  15.933333  102.0  2021      9\n",
       "146  18.300000   62.0  2021      9\n",
       "147  18.133333   39.0  2021     10\n",
       "148  18.566667   22.0  2021     10\n",
       "\n",
       "[149 rows x 4 columns]"
      ]
     },
     "execution_count": 133,
     "metadata": {},
     "output_type": "execute_result"
    }
   ],
   "source": [
    "all_df = pd.concat(df_list)\n",
    "all_df[\"year\"] = pd.to_datetime(all_df[\"date\"]).dt.year\n",
    "all_df[\"month\"] = pd.to_datetime(all_df[\"date\"]).dt.month\n",
    "all_df = all_df[~(all_df[\"個数\"] == 0)]\n",
    "all_df.reset_index(drop=True, inplace=True)\n",
    "all_df.drop(\"date\", axis=1, inplace=True)\n",
    "all_df"
   ]
  },
  {
   "cell_type": "code",
   "execution_count": 134,
   "metadata": {},
   "outputs": [
    {
     "name": "stdout",
     "output_type": "stream",
     "text": [
      "RMSE: 387.5973162865345\n"
     ]
    }
   ],
   "source": [
    "\n",
    "train_df = all_df\n",
    "column_list = train_df.drop(\"個数\", axis=1).columns\n",
    "# train_df = result_df[result_df.index]\n",
    "# データを訓練データとテストデータに分割\n",
    "X_train, X_test, y_train, y_test = train_test_split(\n",
    "    train_df[column_list], train_df[\"個数\"], test_size=0.2, random_state=42)\n",
    "\n",
    "# XGBoostの回帰モデルを訓練\n",
    "model = xgb.XGBRegressor()\n",
    "model.fit(X_train, y_train)\n",
    "\n",
    "# テストデータで予測\n",
    "y_pred = model.predict(X_test)\n",
    "\n",
    "# モデルの評価（例：平均二乗誤差）\n",
    "rmse = np.sqrt(mean_squared_error(y_test, y_pred))\n",
    "print(f\"RMSE: {rmse}\")"
   ]
  },
  {
   "cell_type": "code",
   "execution_count": 135,
   "metadata": {},
   "outputs": [
    {
     "data": {
      "text/plain": [
       "array([  59.06142  ,  342.20016  ,  769.0999   ,  399.26477  ,\n",
       "          2.9758914,   54.162506 ,  330.71234  ,   87.58029  ,\n",
       "        101.555    ,  416.60654  ,   37.70062  ,  346.52518  ,\n",
       "        586.7416   ,  506.64746  ,  107.151146 ,  843.5275   ,\n",
       "        876.65967  ,  106.07385  ,  383.3526   ,  205.2547   ,\n",
       "         89.18     ,  560.1416   ,  290.91806  , 1050.7832   ,\n",
       "       1418.5459   ,   85.74245  ,   26.62786  ,  173.2804   ,\n",
       "        509.7687   ,  106.383705 ], dtype=float32)"
      ]
     },
     "execution_count": 135,
     "metadata": {},
     "output_type": "execute_result"
    }
   ],
   "source": [
    "y_pred"
   ]
  },
  {
   "cell_type": "markdown",
   "metadata": {},
   "source": [
    "#### 説明変数：温度,最高温度,最低温度だけで出荷個数を予測する(2018-2022)\n"
   ]
  },
  {
   "cell_type": "code",
   "execution_count": 136,
   "metadata": {},
   "outputs": [
    {
     "data": {
      "text/html": [
       "<div>\n",
       "<style scoped>\n",
       "    .dataframe tbody tr th:only-of-type {\n",
       "        vertical-align: middle;\n",
       "    }\n",
       "\n",
       "    .dataframe tbody tr th {\n",
       "        vertical-align: top;\n",
       "    }\n",
       "\n",
       "    .dataframe thead th {\n",
       "        text-align: right;\n",
       "    }\n",
       "</style>\n",
       "<table border=\"1\" class=\"dataframe\">\n",
       "  <thead>\n",
       "    <tr style=\"text-align: right;\">\n",
       "      <th></th>\n",
       "      <th>平均気温(℃)</th>\n",
       "      <th>個数</th>\n",
       "      <th>前5日の平均気温</th>\n",
       "      <th>前10日の平均気温</th>\n",
       "      <th>前15日の平均気温</th>\n",
       "      <th>前20日の平均気温</th>\n",
       "      <th>前25日の平均気温</th>\n",
       "      <th>前30日の平均気温</th>\n",
       "      <th>前35日の平均気温</th>\n",
       "      <th>前40日の平均気温</th>\n",
       "      <th>前45日の平均気温</th>\n",
       "      <th>前50日の平均気温</th>\n",
       "      <th>year</th>\n",
       "      <th>month</th>\n",
       "    </tr>\n",
       "  </thead>\n",
       "  <tbody>\n",
       "    <tr>\n",
       "      <th>0</th>\n",
       "      <td>19.066667</td>\n",
       "      <td>2.0</td>\n",
       "      <td>16.933333</td>\n",
       "      <td>16.933333</td>\n",
       "      <td>19.700000</td>\n",
       "      <td>20.000000</td>\n",
       "      <td>18.233333</td>\n",
       "      <td>18.833333</td>\n",
       "      <td>14.766667</td>\n",
       "      <td>18.166667</td>\n",
       "      <td>18.433333</td>\n",
       "      <td>15.100000</td>\n",
       "      <td>2018</td>\n",
       "      <td>6</td>\n",
       "    </tr>\n",
       "    <tr>\n",
       "      <th>1</th>\n",
       "      <td>19.300000</td>\n",
       "      <td>13.0</td>\n",
       "      <td>19.066667</td>\n",
       "      <td>16.933333</td>\n",
       "      <td>16.933333</td>\n",
       "      <td>19.700000</td>\n",
       "      <td>20.000000</td>\n",
       "      <td>18.233333</td>\n",
       "      <td>18.833333</td>\n",
       "      <td>14.766667</td>\n",
       "      <td>18.166667</td>\n",
       "      <td>18.433333</td>\n",
       "      <td>2018</td>\n",
       "      <td>6</td>\n",
       "    </tr>\n",
       "    <tr>\n",
       "      <th>2</th>\n",
       "      <td>22.200000</td>\n",
       "      <td>63.0</td>\n",
       "      <td>19.300000</td>\n",
       "      <td>19.066667</td>\n",
       "      <td>16.933333</td>\n",
       "      <td>16.933333</td>\n",
       "      <td>19.700000</td>\n",
       "      <td>20.000000</td>\n",
       "      <td>18.233333</td>\n",
       "      <td>18.833333</td>\n",
       "      <td>14.766667</td>\n",
       "      <td>18.166667</td>\n",
       "      <td>2018</td>\n",
       "      <td>6</td>\n",
       "    </tr>\n",
       "    <tr>\n",
       "      <th>3</th>\n",
       "      <td>23.866667</td>\n",
       "      <td>74.0</td>\n",
       "      <td>22.200000</td>\n",
       "      <td>19.300000</td>\n",
       "      <td>19.066667</td>\n",
       "      <td>16.933333</td>\n",
       "      <td>16.933333</td>\n",
       "      <td>19.700000</td>\n",
       "      <td>20.000000</td>\n",
       "      <td>18.233333</td>\n",
       "      <td>18.833333</td>\n",
       "      <td>14.766667</td>\n",
       "      <td>2018</td>\n",
       "      <td>6</td>\n",
       "    </tr>\n",
       "    <tr>\n",
       "      <th>4</th>\n",
       "      <td>23.633333</td>\n",
       "      <td>173.0</td>\n",
       "      <td>23.866667</td>\n",
       "      <td>22.200000</td>\n",
       "      <td>19.300000</td>\n",
       "      <td>19.066667</td>\n",
       "      <td>16.933333</td>\n",
       "      <td>16.933333</td>\n",
       "      <td>19.700000</td>\n",
       "      <td>20.000000</td>\n",
       "      <td>18.233333</td>\n",
       "      <td>18.833333</td>\n",
       "      <td>2018</td>\n",
       "      <td>7</td>\n",
       "    </tr>\n",
       "    <tr>\n",
       "      <th>...</th>\n",
       "      <td>...</td>\n",
       "      <td>...</td>\n",
       "      <td>...</td>\n",
       "      <td>...</td>\n",
       "      <td>...</td>\n",
       "      <td>...</td>\n",
       "      <td>...</td>\n",
       "      <td>...</td>\n",
       "      <td>...</td>\n",
       "      <td>...</td>\n",
       "      <td>...</td>\n",
       "      <td>...</td>\n",
       "      <td>...</td>\n",
       "      <td>...</td>\n",
       "    </tr>\n",
       "    <tr>\n",
       "      <th>144</th>\n",
       "      <td>19.933333</td>\n",
       "      <td>185.0</td>\n",
       "      <td>19.566667</td>\n",
       "      <td>19.500000</td>\n",
       "      <td>19.466667</td>\n",
       "      <td>20.033333</td>\n",
       "      <td>19.000000</td>\n",
       "      <td>18.300000</td>\n",
       "      <td>18.766667</td>\n",
       "      <td>23.966667</td>\n",
       "      <td>25.800000</td>\n",
       "      <td>23.933333</td>\n",
       "      <td>2021</td>\n",
       "      <td>9</td>\n",
       "    </tr>\n",
       "    <tr>\n",
       "      <th>145</th>\n",
       "      <td>15.933333</td>\n",
       "      <td>102.0</td>\n",
       "      <td>19.933333</td>\n",
       "      <td>19.566667</td>\n",
       "      <td>19.500000</td>\n",
       "      <td>19.466667</td>\n",
       "      <td>20.033333</td>\n",
       "      <td>19.000000</td>\n",
       "      <td>18.300000</td>\n",
       "      <td>18.766667</td>\n",
       "      <td>23.966667</td>\n",
       "      <td>25.800000</td>\n",
       "      <td>2021</td>\n",
       "      <td>9</td>\n",
       "    </tr>\n",
       "    <tr>\n",
       "      <th>146</th>\n",
       "      <td>18.300000</td>\n",
       "      <td>62.0</td>\n",
       "      <td>15.933333</td>\n",
       "      <td>19.933333</td>\n",
       "      <td>19.566667</td>\n",
       "      <td>19.500000</td>\n",
       "      <td>19.466667</td>\n",
       "      <td>20.033333</td>\n",
       "      <td>19.000000</td>\n",
       "      <td>18.300000</td>\n",
       "      <td>18.766667</td>\n",
       "      <td>23.966667</td>\n",
       "      <td>2021</td>\n",
       "      <td>9</td>\n",
       "    </tr>\n",
       "    <tr>\n",
       "      <th>147</th>\n",
       "      <td>18.133333</td>\n",
       "      <td>39.0</td>\n",
       "      <td>18.300000</td>\n",
       "      <td>15.933333</td>\n",
       "      <td>19.933333</td>\n",
       "      <td>19.566667</td>\n",
       "      <td>19.500000</td>\n",
       "      <td>19.466667</td>\n",
       "      <td>20.033333</td>\n",
       "      <td>19.000000</td>\n",
       "      <td>18.300000</td>\n",
       "      <td>18.766667</td>\n",
       "      <td>2021</td>\n",
       "      <td>10</td>\n",
       "    </tr>\n",
       "    <tr>\n",
       "      <th>148</th>\n",
       "      <td>18.566667</td>\n",
       "      <td>22.0</td>\n",
       "      <td>18.133333</td>\n",
       "      <td>18.300000</td>\n",
       "      <td>15.933333</td>\n",
       "      <td>19.933333</td>\n",
       "      <td>19.566667</td>\n",
       "      <td>19.500000</td>\n",
       "      <td>19.466667</td>\n",
       "      <td>20.033333</td>\n",
       "      <td>19.000000</td>\n",
       "      <td>18.300000</td>\n",
       "      <td>2021</td>\n",
       "      <td>10</td>\n",
       "    </tr>\n",
       "  </tbody>\n",
       "</table>\n",
       "<p>149 rows × 14 columns</p>\n",
       "</div>"
      ],
      "text/plain": [
       "       平均気温(℃)     個数   前5日の平均気温  前10日の平均気温  前15日の平均気温  前20日の平均気温  前25日の平均気温  \\\n",
       "0    19.066667    2.0  16.933333  16.933333  19.700000  20.000000  18.233333   \n",
       "1    19.300000   13.0  19.066667  16.933333  16.933333  19.700000  20.000000   \n",
       "2    22.200000   63.0  19.300000  19.066667  16.933333  16.933333  19.700000   \n",
       "3    23.866667   74.0  22.200000  19.300000  19.066667  16.933333  16.933333   \n",
       "4    23.633333  173.0  23.866667  22.200000  19.300000  19.066667  16.933333   \n",
       "..         ...    ...        ...        ...        ...        ...        ...   \n",
       "144  19.933333  185.0  19.566667  19.500000  19.466667  20.033333  19.000000   \n",
       "145  15.933333  102.0  19.933333  19.566667  19.500000  19.466667  20.033333   \n",
       "146  18.300000   62.0  15.933333  19.933333  19.566667  19.500000  19.466667   \n",
       "147  18.133333   39.0  18.300000  15.933333  19.933333  19.566667  19.500000   \n",
       "148  18.566667   22.0  18.133333  18.300000  15.933333  19.933333  19.566667   \n",
       "\n",
       "     前30日の平均気温  前35日の平均気温  前40日の平均気温  前45日の平均気温  前50日の平均気温  year  month  \n",
       "0    18.833333  14.766667  18.166667  18.433333  15.100000  2018      6  \n",
       "1    18.233333  18.833333  14.766667  18.166667  18.433333  2018      6  \n",
       "2    20.000000  18.233333  18.833333  14.766667  18.166667  2018      6  \n",
       "3    19.700000  20.000000  18.233333  18.833333  14.766667  2018      6  \n",
       "4    16.933333  19.700000  20.000000  18.233333  18.833333  2018      7  \n",
       "..         ...        ...        ...        ...        ...   ...    ...  \n",
       "144  18.300000  18.766667  23.966667  25.800000  23.933333  2021      9  \n",
       "145  19.000000  18.300000  18.766667  23.966667  25.800000  2021      9  \n",
       "146  20.033333  19.000000  18.300000  18.766667  23.966667  2021      9  \n",
       "147  19.466667  20.033333  19.000000  18.300000  18.766667  2021     10  \n",
       "148  19.500000  19.466667  20.033333  19.000000  18.300000  2021     10  \n",
       "\n",
       "[149 rows x 14 columns]"
      ]
     },
     "execution_count": 136,
     "metadata": {},
     "output_type": "execute_result"
    }
   ],
   "source": [
    "all_df2 = pd.concat(df_list)\n",
    "for i in range(1, 11):\n",
    "    all_df2[f\"前{5*i}日の平均気温\"] = all_df2[\"平均気温(℃)\"].shift(i)\n",
    "# all_df2[\"積算\"] = (all_df2.iloc[:, 1] + all_df2.iloc[:, 3:].sum(axis=1))\n",
    "all_df2[\"year\"] = pd.to_datetime(all_df2[\"date\"]).dt.year\n",
    "all_df2[\"month\"] = pd.to_datetime(all_df2[\"date\"]).dt.month\n",
    "all_df2.drop(\"date\", axis=1, inplace=True)\n",
    "all_df2 = all_df2[~(all_df2[\"個数\"] == 0)]\n",
    "all_df2.reset_index(drop=True, inplace=True)\n",
    "all_df2"
   ]
  },
  {
   "cell_type": "code",
   "execution_count": 137,
   "metadata": {},
   "outputs": [
    {
     "name": "stdout",
     "output_type": "stream",
     "text": [
      "RMSE: 269.7374211299715\n",
      "MAE: 199.22894287109375\n"
     ]
    }
   ],
   "source": [
    "train_df = all_df2\n",
    "column_list = train_df.drop(\"個数\", axis=1).columns\n",
    "\n",
    "# データを訓練データとテストデータに分割\n",
    "X_train, X_test, y_train, y_test = train_test_split(\n",
    "    train_df[column_list], train_df[\"個数\"], test_size=0.2)\n",
    "\n",
    "# XGBoostの回帰モデルを訓練\n",
    "model = xgb.XGBRegressor()\n",
    "model.fit(X_train, y_train)\n",
    "\n",
    "# テストデータで予測\n",
    "y_pred = model.predict(X_test)\n",
    "\n",
    "# モデルの評価（例：平均二乗誤差）\n",
    "rmse = np.sqrt(mean_squared_error(y_test, y_pred))\n",
    "mae = sklearn.metrics.mean_absolute_error(y_test, y_pred)\n",
    "print(f\"RMSE: {rmse}\")\n",
    "print(f\"MAE: {mae}\")"
   ]
  },
  {
   "cell_type": "code",
   "execution_count": 138,
   "metadata": {},
   "outputs": [
    {
     "data": {
      "application/vnd.plotly.v1+json": {
       "config": {
        "plotlyServerURL": "https://plot.ly"
       },
       "data": [
        {
         "hovertemplate": "x=%{x}<br>y=%{y}<extra></extra>",
         "legendgroup": "",
         "marker": {
          "color": "#636efa",
          "symbol": "circle"
         },
         "mode": "markers",
         "name": "",
         "orientation": "v",
         "showlegend": false,
         "type": "scatter",
         "x": [
          420.6623229980469,
          375.0448913574219,
          842.96240234375,
          229.11041259765625,
          253.83343505859375,
          466.48028564453125,
          512.4237670898438,
          393.8610534667969,
          171.9178466796875,
          56.17442321777344,
          176.23553466796875,
          860.4384765625,
          750.502685546875,
          638.7286376953125,
          525.6466674804688,
          464.6784973144531,
          535.083251953125,
          723.1478881835938,
          147.02877807617188,
          680.1814575195312,
          194.87518310546875,
          954.991455078125,
          492.5115661621094,
          112.19599914550781,
          457.9210205078125,
          323.4482421875,
          597.6724243164062,
          967.1299438476562,
          590.65625,
          73.83856201171875
         ],
         "xaxis": "x",
         "y": [
          423,
          1105,
          463,
          154,
          112,
          357,
          267,
          345,
          367,
          3,
          13,
          854,
          817,
          1174,
          281,
          396,
          758,
          530,
          102,
          736,
          406,
          301,
          975,
          1,
          706,
          185,
          723,
          788,
          797,
          36
         ],
         "yaxis": "y"
        }
       ],
       "layout": {
        "legend": {
         "tracegroupgap": 0
        },
        "margin": {
         "t": 60
        },
        "template": {
         "data": {
          "bar": [
           {
            "error_x": {
             "color": "#2a3f5f"
            },
            "error_y": {
             "color": "#2a3f5f"
            },
            "marker": {
             "line": {
              "color": "#E5ECF6",
              "width": 0.5
             },
             "pattern": {
              "fillmode": "overlay",
              "size": 10,
              "solidity": 0.2
             }
            },
            "type": "bar"
           }
          ],
          "barpolar": [
           {
            "marker": {
             "line": {
              "color": "#E5ECF6",
              "width": 0.5
             },
             "pattern": {
              "fillmode": "overlay",
              "size": 10,
              "solidity": 0.2
             }
            },
            "type": "barpolar"
           }
          ],
          "carpet": [
           {
            "aaxis": {
             "endlinecolor": "#2a3f5f",
             "gridcolor": "white",
             "linecolor": "white",
             "minorgridcolor": "white",
             "startlinecolor": "#2a3f5f"
            },
            "baxis": {
             "endlinecolor": "#2a3f5f",
             "gridcolor": "white",
             "linecolor": "white",
             "minorgridcolor": "white",
             "startlinecolor": "#2a3f5f"
            },
            "type": "carpet"
           }
          ],
          "choropleth": [
           {
            "colorbar": {
             "outlinewidth": 0,
             "ticks": ""
            },
            "type": "choropleth"
           }
          ],
          "contour": [
           {
            "colorbar": {
             "outlinewidth": 0,
             "ticks": ""
            },
            "colorscale": [
             [
              0,
              "#0d0887"
             ],
             [
              0.1111111111111111,
              "#46039f"
             ],
             [
              0.2222222222222222,
              "#7201a8"
             ],
             [
              0.3333333333333333,
              "#9c179e"
             ],
             [
              0.4444444444444444,
              "#bd3786"
             ],
             [
              0.5555555555555556,
              "#d8576b"
             ],
             [
              0.6666666666666666,
              "#ed7953"
             ],
             [
              0.7777777777777778,
              "#fb9f3a"
             ],
             [
              0.8888888888888888,
              "#fdca26"
             ],
             [
              1,
              "#f0f921"
             ]
            ],
            "type": "contour"
           }
          ],
          "contourcarpet": [
           {
            "colorbar": {
             "outlinewidth": 0,
             "ticks": ""
            },
            "type": "contourcarpet"
           }
          ],
          "heatmap": [
           {
            "colorbar": {
             "outlinewidth": 0,
             "ticks": ""
            },
            "colorscale": [
             [
              0,
              "#0d0887"
             ],
             [
              0.1111111111111111,
              "#46039f"
             ],
             [
              0.2222222222222222,
              "#7201a8"
             ],
             [
              0.3333333333333333,
              "#9c179e"
             ],
             [
              0.4444444444444444,
              "#bd3786"
             ],
             [
              0.5555555555555556,
              "#d8576b"
             ],
             [
              0.6666666666666666,
              "#ed7953"
             ],
             [
              0.7777777777777778,
              "#fb9f3a"
             ],
             [
              0.8888888888888888,
              "#fdca26"
             ],
             [
              1,
              "#f0f921"
             ]
            ],
            "type": "heatmap"
           }
          ],
          "heatmapgl": [
           {
            "colorbar": {
             "outlinewidth": 0,
             "ticks": ""
            },
            "colorscale": [
             [
              0,
              "#0d0887"
             ],
             [
              0.1111111111111111,
              "#46039f"
             ],
             [
              0.2222222222222222,
              "#7201a8"
             ],
             [
              0.3333333333333333,
              "#9c179e"
             ],
             [
              0.4444444444444444,
              "#bd3786"
             ],
             [
              0.5555555555555556,
              "#d8576b"
             ],
             [
              0.6666666666666666,
              "#ed7953"
             ],
             [
              0.7777777777777778,
              "#fb9f3a"
             ],
             [
              0.8888888888888888,
              "#fdca26"
             ],
             [
              1,
              "#f0f921"
             ]
            ],
            "type": "heatmapgl"
           }
          ],
          "histogram": [
           {
            "marker": {
             "pattern": {
              "fillmode": "overlay",
              "size": 10,
              "solidity": 0.2
             }
            },
            "type": "histogram"
           }
          ],
          "histogram2d": [
           {
            "colorbar": {
             "outlinewidth": 0,
             "ticks": ""
            },
            "colorscale": [
             [
              0,
              "#0d0887"
             ],
             [
              0.1111111111111111,
              "#46039f"
             ],
             [
              0.2222222222222222,
              "#7201a8"
             ],
             [
              0.3333333333333333,
              "#9c179e"
             ],
             [
              0.4444444444444444,
              "#bd3786"
             ],
             [
              0.5555555555555556,
              "#d8576b"
             ],
             [
              0.6666666666666666,
              "#ed7953"
             ],
             [
              0.7777777777777778,
              "#fb9f3a"
             ],
             [
              0.8888888888888888,
              "#fdca26"
             ],
             [
              1,
              "#f0f921"
             ]
            ],
            "type": "histogram2d"
           }
          ],
          "histogram2dcontour": [
           {
            "colorbar": {
             "outlinewidth": 0,
             "ticks": ""
            },
            "colorscale": [
             [
              0,
              "#0d0887"
             ],
             [
              0.1111111111111111,
              "#46039f"
             ],
             [
              0.2222222222222222,
              "#7201a8"
             ],
             [
              0.3333333333333333,
              "#9c179e"
             ],
             [
              0.4444444444444444,
              "#bd3786"
             ],
             [
              0.5555555555555556,
              "#d8576b"
             ],
             [
              0.6666666666666666,
              "#ed7953"
             ],
             [
              0.7777777777777778,
              "#fb9f3a"
             ],
             [
              0.8888888888888888,
              "#fdca26"
             ],
             [
              1,
              "#f0f921"
             ]
            ],
            "type": "histogram2dcontour"
           }
          ],
          "mesh3d": [
           {
            "colorbar": {
             "outlinewidth": 0,
             "ticks": ""
            },
            "type": "mesh3d"
           }
          ],
          "parcoords": [
           {
            "line": {
             "colorbar": {
              "outlinewidth": 0,
              "ticks": ""
             }
            },
            "type": "parcoords"
           }
          ],
          "pie": [
           {
            "automargin": true,
            "type": "pie"
           }
          ],
          "scatter": [
           {
            "fillpattern": {
             "fillmode": "overlay",
             "size": 10,
             "solidity": 0.2
            },
            "type": "scatter"
           }
          ],
          "scatter3d": [
           {
            "line": {
             "colorbar": {
              "outlinewidth": 0,
              "ticks": ""
             }
            },
            "marker": {
             "colorbar": {
              "outlinewidth": 0,
              "ticks": ""
             }
            },
            "type": "scatter3d"
           }
          ],
          "scattercarpet": [
           {
            "marker": {
             "colorbar": {
              "outlinewidth": 0,
              "ticks": ""
             }
            },
            "type": "scattercarpet"
           }
          ],
          "scattergeo": [
           {
            "marker": {
             "colorbar": {
              "outlinewidth": 0,
              "ticks": ""
             }
            },
            "type": "scattergeo"
           }
          ],
          "scattergl": [
           {
            "marker": {
             "colorbar": {
              "outlinewidth": 0,
              "ticks": ""
             }
            },
            "type": "scattergl"
           }
          ],
          "scattermapbox": [
           {
            "marker": {
             "colorbar": {
              "outlinewidth": 0,
              "ticks": ""
             }
            },
            "type": "scattermapbox"
           }
          ],
          "scatterpolar": [
           {
            "marker": {
             "colorbar": {
              "outlinewidth": 0,
              "ticks": ""
             }
            },
            "type": "scatterpolar"
           }
          ],
          "scatterpolargl": [
           {
            "marker": {
             "colorbar": {
              "outlinewidth": 0,
              "ticks": ""
             }
            },
            "type": "scatterpolargl"
           }
          ],
          "scatterternary": [
           {
            "marker": {
             "colorbar": {
              "outlinewidth": 0,
              "ticks": ""
             }
            },
            "type": "scatterternary"
           }
          ],
          "surface": [
           {
            "colorbar": {
             "outlinewidth": 0,
             "ticks": ""
            },
            "colorscale": [
             [
              0,
              "#0d0887"
             ],
             [
              0.1111111111111111,
              "#46039f"
             ],
             [
              0.2222222222222222,
              "#7201a8"
             ],
             [
              0.3333333333333333,
              "#9c179e"
             ],
             [
              0.4444444444444444,
              "#bd3786"
             ],
             [
              0.5555555555555556,
              "#d8576b"
             ],
             [
              0.6666666666666666,
              "#ed7953"
             ],
             [
              0.7777777777777778,
              "#fb9f3a"
             ],
             [
              0.8888888888888888,
              "#fdca26"
             ],
             [
              1,
              "#f0f921"
             ]
            ],
            "type": "surface"
           }
          ],
          "table": [
           {
            "cells": {
             "fill": {
              "color": "#EBF0F8"
             },
             "line": {
              "color": "white"
             }
            },
            "header": {
             "fill": {
              "color": "#C8D4E3"
             },
             "line": {
              "color": "white"
             }
            },
            "type": "table"
           }
          ]
         },
         "layout": {
          "annotationdefaults": {
           "arrowcolor": "#2a3f5f",
           "arrowhead": 0,
           "arrowwidth": 1
          },
          "autotypenumbers": "strict",
          "coloraxis": {
           "colorbar": {
            "outlinewidth": 0,
            "ticks": ""
           }
          },
          "colorscale": {
           "diverging": [
            [
             0,
             "#8e0152"
            ],
            [
             0.1,
             "#c51b7d"
            ],
            [
             0.2,
             "#de77ae"
            ],
            [
             0.3,
             "#f1b6da"
            ],
            [
             0.4,
             "#fde0ef"
            ],
            [
             0.5,
             "#f7f7f7"
            ],
            [
             0.6,
             "#e6f5d0"
            ],
            [
             0.7,
             "#b8e186"
            ],
            [
             0.8,
             "#7fbc41"
            ],
            [
             0.9,
             "#4d9221"
            ],
            [
             1,
             "#276419"
            ]
           ],
           "sequential": [
            [
             0,
             "#0d0887"
            ],
            [
             0.1111111111111111,
             "#46039f"
            ],
            [
             0.2222222222222222,
             "#7201a8"
            ],
            [
             0.3333333333333333,
             "#9c179e"
            ],
            [
             0.4444444444444444,
             "#bd3786"
            ],
            [
             0.5555555555555556,
             "#d8576b"
            ],
            [
             0.6666666666666666,
             "#ed7953"
            ],
            [
             0.7777777777777778,
             "#fb9f3a"
            ],
            [
             0.8888888888888888,
             "#fdca26"
            ],
            [
             1,
             "#f0f921"
            ]
           ],
           "sequentialminus": [
            [
             0,
             "#0d0887"
            ],
            [
             0.1111111111111111,
             "#46039f"
            ],
            [
             0.2222222222222222,
             "#7201a8"
            ],
            [
             0.3333333333333333,
             "#9c179e"
            ],
            [
             0.4444444444444444,
             "#bd3786"
            ],
            [
             0.5555555555555556,
             "#d8576b"
            ],
            [
             0.6666666666666666,
             "#ed7953"
            ],
            [
             0.7777777777777778,
             "#fb9f3a"
            ],
            [
             0.8888888888888888,
             "#fdca26"
            ],
            [
             1,
             "#f0f921"
            ]
           ]
          },
          "colorway": [
           "#636efa",
           "#EF553B",
           "#00cc96",
           "#ab63fa",
           "#FFA15A",
           "#19d3f3",
           "#FF6692",
           "#B6E880",
           "#FF97FF",
           "#FECB52"
          ],
          "font": {
           "color": "#2a3f5f"
          },
          "geo": {
           "bgcolor": "white",
           "lakecolor": "white",
           "landcolor": "#E5ECF6",
           "showlakes": true,
           "showland": true,
           "subunitcolor": "white"
          },
          "hoverlabel": {
           "align": "left"
          },
          "hovermode": "closest",
          "mapbox": {
           "style": "light"
          },
          "paper_bgcolor": "white",
          "plot_bgcolor": "#E5ECF6",
          "polar": {
           "angularaxis": {
            "gridcolor": "white",
            "linecolor": "white",
            "ticks": ""
           },
           "bgcolor": "#E5ECF6",
           "radialaxis": {
            "gridcolor": "white",
            "linecolor": "white",
            "ticks": ""
           }
          },
          "scene": {
           "xaxis": {
            "backgroundcolor": "#E5ECF6",
            "gridcolor": "white",
            "gridwidth": 2,
            "linecolor": "white",
            "showbackground": true,
            "ticks": "",
            "zerolinecolor": "white"
           },
           "yaxis": {
            "backgroundcolor": "#E5ECF6",
            "gridcolor": "white",
            "gridwidth": 2,
            "linecolor": "white",
            "showbackground": true,
            "ticks": "",
            "zerolinecolor": "white"
           },
           "zaxis": {
            "backgroundcolor": "#E5ECF6",
            "gridcolor": "white",
            "gridwidth": 2,
            "linecolor": "white",
            "showbackground": true,
            "ticks": "",
            "zerolinecolor": "white"
           }
          },
          "shapedefaults": {
           "line": {
            "color": "#2a3f5f"
           }
          },
          "ternary": {
           "aaxis": {
            "gridcolor": "white",
            "linecolor": "white",
            "ticks": ""
           },
           "baxis": {
            "gridcolor": "white",
            "linecolor": "white",
            "ticks": ""
           },
           "bgcolor": "#E5ECF6",
           "caxis": {
            "gridcolor": "white",
            "linecolor": "white",
            "ticks": ""
           }
          },
          "title": {
           "x": 0.05
          },
          "xaxis": {
           "automargin": true,
           "gridcolor": "white",
           "linecolor": "white",
           "ticks": "",
           "title": {
            "standoff": 15
           },
           "zerolinecolor": "white",
           "zerolinewidth": 2
          },
          "yaxis": {
           "automargin": true,
           "gridcolor": "white",
           "linecolor": "white",
           "ticks": "",
           "title": {
            "standoff": 15
           },
           "zerolinecolor": "white",
           "zerolinewidth": 2
          }
         }
        },
        "xaxis": {
         "anchor": "y",
         "domain": [
          0,
          1
         ],
         "title": {
          "text": "x"
         }
        },
        "yaxis": {
         "anchor": "x",
         "domain": [
          0,
          1
         ],
         "title": {
          "text": "y"
         }
        }
       }
      }
     },
     "metadata": {},
     "output_type": "display_data"
    }
   ],
   "source": [
    "fig = px.scatter(x=y_pred, y=y_test)\n",
    "fig.show()"
   ]
  },
  {
   "cell_type": "code",
   "execution_count": 139,
   "metadata": {},
   "outputs": [
    {
     "data": {
      "text/plain": [
       "'前5日の平均気温'"
      ]
     },
     "execution_count": 139,
     "metadata": {},
     "output_type": "execute_result"
    }
   ],
   "source": [
    "column_list[1]"
   ]
  },
  {
   "cell_type": "code",
   "execution_count": 140,
   "metadata": {},
   "outputs": [
    {
     "name": "stdout",
     "output_type": "stream",
     "text": [
      "<class 'pandas.core.frame.DataFrame'>\n",
      "RangeIndex: 122 entries, 0 to 121\n",
      "Data columns (total 3 columns):\n",
      " #   Column   Non-Null Count  Dtype  \n",
      "---  ------   --------------  -----  \n",
      " 0   date     122 non-null    object \n",
      " 1   平均気温(℃)  122 non-null    float64\n",
      " 2   個数       122 non-null    float64\n",
      "dtypes: float64(2), object(1)\n",
      "memory usage: 3.0+ KB\n"
     ]
    }
   ],
   "source": [
    "df_list[1].info()"
   ]
  },
  {
   "cell_type": "code",
   "execution_count": 141,
   "metadata": {},
   "outputs": [
    {
     "name": "stdout",
     "output_type": "stream",
     "text": [
      "Fitting 5 folds for each of 100 candidates, totalling 500 fits\n"
     ]
    },
    {
     "name": "stdout",
     "output_type": "stream",
     "text": [
      "Best parameters found:  {'subsample': 0.8, 'n_estimators': 300, 'max_depth': 3, 'learning_rate': 0.01, 'colsample_bytree': 0.7}\n"
     ]
    }
   ],
   "source": [
    "# XGBoostモデルを作成\n",
    "model = xgb.XGBRegressor()\n",
    "\n",
    "# ハイパーパラメーターの探索範囲を指定\n",
    "param_dist = {\n",
    "    'n_estimators': [100, 200, 300],\n",
    "    'max_depth': [3, 4, 5, 6],\n",
    "    'learning_rate': [0.01, 0.1, 0.2, 0.3],\n",
    "    'subsample': [0.7, 0.8, 0.9, 1.0],\n",
    "    'colsample_bytree': [0.7, 0.8, 0.9, 1.0],\n",
    "}\n",
    "\n",
    "# RandomizedSearchCVを設定\n",
    "random_search = RandomizedSearchCV(\n",
    "    model,\n",
    "    param_distributions=param_dist,\n",
    "    n_iter=100,  # 試行回数\n",
    "    scoring='neg_mean_squared_error',  # 最小化する目的関数\n",
    "    cv=5,  # 交差検証の分割数\n",
    "    verbose=1,\n",
    "    n_jobs=-1  # 並列処理を使用\n",
    ")\n",
    "\n",
    "# ランダムサーチを実行\n",
    "random_search.fit(X_train, y_train)\n",
    "\n",
    "# 最適なハイパーパラメーター設定を表示\n",
    "print(\"Best parameters found: \", random_search.best_params_)\n",
    "\n",
    "# 最適なモデルを取得\n",
    "best_model = random_search.best_estimator_"
   ]
  },
  {
   "cell_type": "code",
   "execution_count": 142,
   "metadata": {},
   "outputs": [
    {
     "name": "stdout",
     "output_type": "stream",
     "text": [
      "Predictions: [336.36307  333.7201   535.66656  195.81279  182.63011  442.35596\n",
      " 393.18118  396.82758  189.1668    44.100803 214.36998  705.80414\n",
      " 659.5542   662.34766  586.85895  425.33237  430.59613  548.4922\n",
      " 157.17415  656.7014   295.17676  810.9034   414.18326  153.59612\n",
      " 492.4065   229.20485  656.34973  737.08435  650.3524    96.963066]\n",
      "RMSE: 269.7374211299715\n",
      "MAE: 199.22894287109375\n"
     ]
    }
   ],
   "source": [
    "# 最適なモデルで予測を実行\n",
    "predictions = best_model.predict(X_test)\n",
    "\n",
    "# 予測結果を表示\n",
    "print(\"Predictions:\", predictions)\n",
    "rmse = np.sqrt(mean_squared_error(y_test, y_pred))\n",
    "mae = sklearn.metrics.mean_absolute_error(y_test, y_pred)\n",
    "print(f\"RMSE: {rmse}\")\n",
    "print(f\"MAE: {mae}\")"
   ]
  },
  {
   "cell_type": "code",
   "execution_count": null,
   "metadata": {},
   "outputs": [],
   "source": []
  }
 ],
 "metadata": {
  "kernelspec": {
   "display_name": "Python 3",
   "language": "python",
   "name": "python3"
  },
  "language_info": {
   "codemirror_mode": {
    "name": "ipython",
    "version": 3
   },
   "file_extension": ".py",
   "mimetype": "text/x-python",
   "name": "python",
   "nbconvert_exporter": "python",
   "pygments_lexer": "ipython3",
   "version": "3.11.4"
  },
  "orig_nbformat": 4
 },
 "nbformat": 4,
 "nbformat_minor": 2
}
